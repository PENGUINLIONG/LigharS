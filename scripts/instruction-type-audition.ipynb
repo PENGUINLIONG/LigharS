{
 "metadata": {
  "language_info": {
   "codemirror_mode": {
    "name": "ipython",
    "version": 3
   },
   "file_extension": ".py",
   "mimetype": "text/x-python",
   "name": "python",
   "nbconvert_exporter": "python",
   "pygments_lexer": "ipython3",
   "version": "3.9.1-final"
  },
  "orig_nbformat": 2,
  "kernelspec": {
   "name": "python3",
   "display_name": "Python 3.9.1 64-bit",
   "metadata": {
    "interpreter": {
     "hash": "63fd5069d213b44bf678585dea6b12cceca9941eaf7f819626cde1f2670de90d"
    }
   }
  }
 },
 "nbformat": 4,
 "nbformat_minor": 2,
 "cells": [
  {
   "cell_type": "code",
   "execution_count": 2,
   "metadata": {},
   "outputs": [],
   "source": [
    "lines = None\n",
    "with open(\"../tmp/min-reprod.decorated.s\") as f:\n",
    "    lines = f.readlines()"
   ]
  },
  {
   "cell_type": "code",
   "execution_count": 9,
   "metadata": {},
   "outputs": [],
   "source": [
    "ALWAYS_USED_OPS = [\n",
    "    'addi',\n",
    "    'lui',\n",
    "    'jal',\n",
    "    'jalr',\n",
    "]\n",
    "used_ops = set((x.split() + [\"\"])[0] for x in lines).union(set(ALWAYS_USED_OPS))"
   ]
  },
  {
   "cell_type": "code",
   "execution_count": 10,
   "metadata": {},
   "outputs": [],
   "source": [
    "actually_ops = set(x for x in used_ops if not x.startswith('.') and not x.endswith(\":\"))"
   ]
  },
  {
   "cell_type": "code",
   "execution_count": 11,
   "metadata": {},
   "outputs": [
    {
     "output_type": "execute_result",
     "data": {
      "text/plain": [
       "{'', 'add', 'addi', 'call', 'j', 'jal', 'jalr', 'lui', 'nop', 'ret'}"
      ]
     },
     "metadata": {},
     "execution_count": 11
    }
   ],
   "source": [
    "actually_ops"
   ]
  },
  {
   "cell_type": "code",
   "execution_count": 12,
   "metadata": {},
   "outputs": [],
   "source": [
    "PSEUDO_MAP = {\n",
    "    \"beqz\": [\"beq\"],\n",
    "    \"bnez\": [\"bne\"],\n",
    "    \"fabs.s\": [\"fsgnx.s\"],\n",
    "    \"fmv.s\": [\"fsgnj.s\"],\n",
    "    \"fneg.s\": [\"fsgnjn.s\"],\n",
    "    \"j\": [\"jal\"],\n",
    "    \"jr\": [\"jalr\"],\n",
    "    \"la\": [\"auipc\"],\n",
    "    \"li\": [\"addi\"],\n",
    "    \"mv\": [\"addi\"],\n",
    "    \"neg\": [\"sub\"],\n",
    "    \"nop\": [\"addi\"],\n",
    "    \"not\": [\"xori\"],\n",
    "    \"ret\": [\"jalr\"],\n",
    "    \"seqz\": [\"sltiu\"],\n",
    "    \"snez\": [\"sltu\"],\n",
    "    \"call\": [\"auipc\", \"jalr\"],\n",
    "}\n",
    "\n",
    "non_qseudo_ops = set(sum((PSEUDO_MAP[x] if x in PSEUDO_MAP else [x] for x in actually_ops), start=[]))"
   ]
  },
  {
   "cell_type": "code",
   "execution_count": 13,
   "metadata": {},
   "outputs": [
    {
     "output_type": "execute_result",
     "data": {
      "text/plain": [
       "{'', 'add', 'addi', 'auipc', 'jal', 'jalr', 'lui'}"
      ]
     },
     "metadata": {},
     "execution_count": 13
    }
   ],
   "source": [
    "non_qseudo_ops"
   ]
  },
  {
   "cell_type": "code",
   "execution_count": null,
   "metadata": {},
   "outputs": [],
   "source": []
  }
 ]
}