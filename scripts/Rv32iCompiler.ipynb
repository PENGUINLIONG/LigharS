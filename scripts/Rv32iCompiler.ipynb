{
 "cells": [
  {
   "cell_type": "code",
   "execution_count": 1,
   "metadata": {},
   "outputs": [],
   "source": [
    "from riscv_assembler.convert import AssemblyConverter"
   ]
  },
  {
   "cell_type": "code",
   "execution_count": 4,
   "metadata": {},
   "outputs": [
    {
     "name": "stdout",
     "output_type": "stream",
     "text": [
      "0\n",
      "------Writing to Text file------\n",
      "Output file: tmp.txt\n",
      "Number of instructions: 5\n",
      "\n",
      "\n",
      "\n",
      "\n",
      "\n",
      "// begin:\n",
      "`i(32'b00000000001100000110001010010011); // ori t0, x0, 3\n",
      "`i(32'b00000000010000101000001100010011); // addi t1, t0, 4\n",
      "`i(32'b00000000011000101010001010100011); // sw t1, 5(t0)\n",
      "`i(32'b00000000010100101010001110000011); // lw t2, 5(t0)\n",
      "`i(32'b11111110011100110000011011100011); // beq t1, t2, begin\n"
     ]
    }
   ],
   "source": [
    "import os\n",
    "\n",
    "ASM = \"\"\"\n",
    "begin:\n",
    "ori t0, x0, 3\n",
    "addi t1, t0, 4\n",
    "sw t1, 5(t0)\n",
    "lw t2, 5(t0)\n",
    "beq t1, t2, begin\n",
    "\"\"\";\n",
    "TMP_FNAME = \"tmp.s\"\n",
    "DST_TMP_DIR = \"tmp/txt\"\n",
    "DST_TMP_FNAME = \"tmp/txt/tmp.txt\"\n",
    "\n",
    "with open(TMP_FNAME, \"w\") as f:\n",
    "    f.write(ASM)\n",
    "try:\n",
    "    os.remove(DST_TMP_FNAME)\n",
    "    os.rmdir(DST_TMP_DIR)\n",
    "except:\n",
    "    pass\n",
    "AssemblyConverter(output_type=\"t\").convert(TMP_FNAME)\n",
    "\n",
    "print()\n",
    "print()\n",
    "print()\n",
    "print()\n",
    "print()\n",
    "\n",
    "asm_lines = [x.strip() for x in ASM.split(\"\\n\")][1:-1]\n",
    "instr_lines = None\n",
    "\n",
    "with open(DST_TMP_FNAME) as f:\n",
    "    instr_lines = [x.strip() for x in f.readlines()]\n",
    "\n",
    "iasm = 0\n",
    "iinstr = 0\n",
    "while iasm < len(asm_lines):\n",
    "    asm = asm_lines[iasm]\n",
    "    iasm += 1\n",
    "    if asm.endswith(\":\"):\n",
    "        print(f\"// {asm}\")\n",
    "        continue\n",
    "        \n",
    "    instr = instr_lines[iinstr]\n",
    "    iinstr += 1\n",
    "    print(f\"`i(32'b{instr}); // {asm}\")\n"
   ]
  },
  {
   "cell_type": "code",
   "execution_count": null,
   "metadata": {},
   "outputs": [],
   "source": []
  }
 ],
 "metadata": {
  "kernelspec": {
   "display_name": "Python 3",
   "language": "python",
   "name": "python3"
  },
  "language_info": {
   "codemirror_mode": {
    "name": "ipython",
    "version": 3
   },
   "file_extension": ".py",
   "mimetype": "text/x-python",
   "name": "python",
   "nbconvert_exporter": "python",
   "pygments_lexer": "ipython3",
   "version": "3.8.3"
  }
 },
 "nbformat": 4,
 "nbformat_minor": 2
}
