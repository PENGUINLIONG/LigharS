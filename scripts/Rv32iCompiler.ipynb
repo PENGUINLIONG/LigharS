{
 "cells": [
  {
   "cell_type": "code",
   "execution_count": 5,
   "metadata": {},
   "outputs": [],
   "source": [
    "from riscv_assembler.convert import AssemblyConverter"
   ]
  },
  {
   "cell_type": "code",
   "execution_count": 26,
   "metadata": {},
   "outputs": [
    {
     "name": "stdout",
     "output_type": "stream",
     "text": [
      "0\n",
      "------Writing to Text file------\n",
      "Output file: tmp.txt\n",
      "Number of instructions: 4\n",
      "\n",
      "\n",
      "\n",
      "\n",
      "\n",
      "`i(32'b00000000001100000110001010010011); // ori t0, x0, 3\n",
      "`i(32'b00000000010000101000001100010011); // addi t1, t0, 4\n",
      "`i(32'b00000000011000101010001010100011); // sw t1, 5(t0)\n",
      "`i(32'b00000000010100101010001110000011); // lw t2, 5(t0)\n"
     ]
    }
   ],
   "source": [
    "import os\n",
    "\n",
    "ASM = \"\"\"\n",
    "ori t0, x0, 3\n",
    "addi t1, t0, 4\n",
    "sw t1, 5(t0)\n",
    "lw t2, 5(t0)\n",
    "\"\"\";\n",
    "TMP_FNAME = \"tmp.s\"\n",
    "DST_TMP_DIR = \"tmp/txt\"\n",
    "DST_TMP_FNAME = \"tmp/txt/tmp.txt\"\n",
    "\n",
    "with open(TMP_FNAME, \"w\") as f:\n",
    "    f.write(ASM)\n",
    "try:\n",
    "    os.remove(DST_TMP_FNAME)\n",
    "    os.rmdir(DST_TMP_DIR)\n",
    "except:\n",
    "    pass\n",
    "AssemblyConverter(output_type=\"t\").convert(TMP_FNAME)\n",
    "\n",
    "print()\n",
    "print()\n",
    "print()\n",
    "print()\n",
    "print()\n",
    "\n",
    "asm_lines = [x.strip() for x in ASM.split(\"\\n\")][1:-1]\n",
    "with open(DST_TMP_FNAME) as f:\n",
    "    for i, x in enumerate(f.readlines()):\n",
    "        asm = asm_lines[i]\n",
    "        print(f\"`i(32'b{x.strip()}); // {asm}\")"
   ]
  }
 ],
 "metadata": {
  "kernelspec": {
   "display_name": "Python 3",
   "language": "python",
   "name": "python3"
  },
  "language_info": {
   "codemirror_mode": {
    "name": "ipython",
    "version": 3
   },
   "file_extension": ".py",
   "mimetype": "text/x-python",
   "name": "python",
   "nbconvert_exporter": "python",
   "pygments_lexer": "ipython3",
   "version": "3.8.3"
  }
 },
 "nbformat": 4,
 "nbformat_minor": 2
}