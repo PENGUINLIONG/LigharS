{
 "cells": [
  {
   "cell_type": "code",
   "execution_count": 1,
   "metadata": {},
   "outputs": [],
   "source": [
    "\n",
    "\"\"\"\n",
    "\n",
    "(if (condition)\n",
    "  \"true\" (yyy)\n",
    "  \"false\" (xxx)\n",
    ")\n",
    "\n",
    "(struct\n",
    "  (var u32 M)\n",
    ")\n",
    "\n",
    "\"\"\"\n",
    "\n",
    "SAIR = \"\"\"\n",
    "\"Define types.\"\n",
    "(type u32 (uint 32))\n",
    "(type f32 (float 32))\n",
    "\n",
    "\n",
    "\n",
    "(entry matmul\n",
    "\n",
    "\"Declare variables.\"\n",
    "(var M u32)\n",
    "(var K u32)\n",
    "(var N u32)\n",
    "(var A (tensor f32) M K)\n",
    "(var B (tensor f32) K N)\n",
    "(var C (tensor f32) M N)\n",
    "\n",
    "\n",
    "\"Declare loop control variables.\"\n",
    "(var m u32)\n",
    "(var k u32)\n",
    "(var n u32)\n",
    "(var temp f32)\n",
    "\n",
    "\"Inject variables from arguments.\"\n",
    "(let M (arg 0))\n",
    "(let K (arg 1))\n",
    "(let N (arg 2))\n",
    "(let A (arg 3))\n",
    "(let B (arg 4))\n",
    "(let C (arg 5))\n",
    "\n",
    "\"Loop and MatMul.\"\n",
    "(loop (range m 0 M)\n",
    "  (loop (range n 0 N)\n",
    "    (let temp 0.0)\n",
    "    (loop (range k 0 K)\n",
    "      (let temp (+ (* (load A m k) (load B k n)) temp))\n",
    "    )\n",
    "    (store temp C m n)\n",
    "  )\n",
    ")\n",
    "\n",
    ")\n",
    "\"\"\""
   ]
  },
  {
   "cell_type": "code",
   "execution_count": 2,
   "metadata": {
    "tags": []
   },
   "outputs": [
    {
     "output_type": "stream",
     "name": "stdout",
     "text": "['(', 'type', 'u32', '(', 'uint', '32', ')', ')', '(', 'type', 'f32', '(', 'float', '32', ')', ')', '(', 'entry', 'matmul', '(', 'var', 'M', 'u32', ')', '(', 'var', 'K', 'u32', ')', '(', 'var', 'N', 'u32', ')', '(', 'var', 'A', '(', 'tensor', 'f32', ')', 'M', 'K', ')', '(', 'var', 'B', '(', 'tensor', 'f32', ')', 'K', 'N', ')', '(', 'var', 'C', '(', 'tensor', 'f32', ')', 'M', 'N', ')', '(', 'var', 'm', 'u32', ')', '(', 'var', 'k', 'u32', ')', '(', 'var', 'n', 'u32', ')', '(', 'var', 'temp', 'f32', ')', '(', 'let', 'M', '(', 'arg', '0', ')', ')', '(', 'let', 'K', '(', 'arg', '1', ')', ')', '(', 'let', 'N', '(', 'arg', '2', ')', ')', '(', 'let', 'A', '(', 'arg', '3', ')', ')', '(', 'let', 'B', '(', 'arg', '4', ')', ')', '(', 'let', 'C', '(', 'arg', '5', ')', ')', '(', 'loop', '(', 'range', 'm', '0', 'M', ')', '(', 'loop', '(', 'range', 'n', '0', 'N', ')', '(', 'let', 'temp', '0.0', ')', '(', 'loop', '(', 'range', 'k', '0', 'K', ')', '(', 'let', 'temp', '(', '+', '(', '*', '(', 'load', 'A', 'm', 'k', ')', '(', 'load', 'B', 'k', 'n', ')', ')', 'temp', ')', ')', ')', '(', 'store', 'temp', 'C', 'm', 'n', ')', ')', ')', ')']\n"
    }
   ],
   "source": [
    "def tokenize(sair):\n",
    "    tokens = []\n",
    "    beg = 0\n",
    "    in_comment = False\n",
    "    for i in range(len(sair)):\n",
    "        c = sair[i]\n",
    "        c_is_token = False\n",
    "        end_token = True\n",
    "        if c == \"\\\"\":\n",
    "            in_comment = not in_comment\n",
    "        elif not in_comment:\n",
    "            if c == \"(\" or c == \")\":\n",
    "                c_is_token = True\n",
    "            elif c == \" \" or c == \"\\r\" or c == \"\\n\" or c == \"\\t\":\n",
    "                pass\n",
    "            else:\n",
    "                end_token = False\n",
    "\n",
    "        if end_token:\n",
    "            if i != beg:\n",
    "                token = sair[beg:i]\n",
    "                tokens += [token]\n",
    "            beg = i + 1\n",
    "        if c_is_token:\n",
    "            tokens += [c]\n",
    "            \n",
    "    return tokens\n",
    "\n",
    "print(tokenize(SAIR))"
   ]
  },
  {
   "cell_type": "code",
   "execution_count": 3,
   "metadata": {},
   "outputs": [
    {
     "output_type": "execute_result",
     "data": {
      "text/plain": "(43,\n [['type', 'u32', ['uint', '32']],\n  ['type', 'f32', ['float', '32']],\n  ['entry',\n   'matmul',\n   ['var', 'M', 'u32'],\n   ['var', 'K', 'u32'],\n   ['var', 'N', 'u32'],\n   ['var', 'A', ['tensor', 'f32'], 'M', 'K'],\n   ['var', 'B', ['tensor', 'f32'], 'K', 'N'],\n   ['var', 'C', ['tensor', 'f32'], 'M', 'N'],\n   ['var', 'm', 'u32'],\n   ['var', 'k', 'u32'],\n   ['var', 'n', 'u32'],\n   ['var', 'temp', 'f32'],\n   ['let', 'M', ['arg', '0']],\n   ['let', 'K', ['arg', '1']],\n   ['let', 'N', ['arg', '2']],\n   ['let', 'A', ['arg', '3']],\n   ['let', 'B', ['arg', '4']],\n   ['let', 'C', ['arg', '5']],\n   ['loop',\n    ['range', 'm', '0', 'M'],\n    ['loop',\n     ['range', 'n', '0', 'N'],\n     ['let', 'temp', '0.0'],\n     ['loop',\n      ['range', 'k', '0', 'K'],\n      ['let',\n       'temp',\n       ['+',\n        ['*', ['load', 'A', 'm', 'k'], ['load', 'B', 'k', 'n']],\n        'temp']]],\n     ['store', 'temp', 'C', 'm', 'n']]]]])"
     },
     "metadata": {},
     "execution_count": 3
    }
   ],
   "source": [
    "def build_ast(tokens):\n",
    "    stack = [0]\n",
    "    ast = []\n",
    "    ncall = 0\n",
    "    for token in tokens:\n",
    "        node = ast\n",
    "        \n",
    "        for i in stack[:-1]:\n",
    "            node = node[i]\n",
    "\n",
    "        if token == \"(\":\n",
    "            stack.append(0)\n",
    "            node.append([])\n",
    "        elif token == \")\":\n",
    "            stack.pop()\n",
    "            stack[-1] += 1\n",
    "            ncall += 1\n",
    "        else:\n",
    "            stack[-1] += 1\n",
    "            node.append(token)\n",
    "    return (ncall, ast)\n",
    "\n",
    "build_ast(tokenize(SAIR))"
   ]
  },
  {
   "cell_type": "code",
   "execution_count": null,
   "metadata": {},
   "outputs": [],
   "source": []
  }
 ],
 "metadata": {
  "kernelspec": {
   "display_name": "Python 3",
   "language": "python",
   "name": "python3"
  },
  "language_info": {
   "codemirror_mode": {
    "name": "ipython",
    "version": 3
   },
   "file_extension": ".py",
   "mimetype": "text/x-python",
   "name": "python",
   "nbconvert_exporter": "python",
   "pygments_lexer": "ipython3",
   "version": "3.6.5"
  }
 },
 "nbformat": 4,
 "nbformat_minor": 2
}